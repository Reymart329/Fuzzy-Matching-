{
 "cells": [
  {
   "cell_type": "code",
   "execution_count": 1,
   "id": "3ffd7d01",
   "metadata": {},
   "outputs": [],
   "source": [
    "import pandas as pd"
   ]
  },
  {
   "cell_type": "code",
   "execution_count": 2,
   "id": "be7fbb3f",
   "metadata": {},
   "outputs": [],
   "source": [
    "from pathlib import Path"
   ]
  },
  {
   "cell_type": "code",
   "execution_count": 3,
   "id": "3615f70e",
   "metadata": {},
   "outputs": [],
   "source": [
    "import fuzzymatcher as fm"
   ]
  },
  {
   "cell_type": "code",
   "execution_count": 4,
   "id": "3d24914b",
   "metadata": {},
   "outputs": [],
   "source": [
    "import fuzzywuzzy as fw"
   ]
  },
  {
   "cell_type": "code",
   "execution_count": null,
   "id": "03cab874",
   "metadata": {},
   "outputs": [],
   "source": [
    "import recordlinkage as rl"
   ]
  },
  {
   "cell_type": "code",
   "execution_count": 5,
   "id": "9e39e68d",
   "metadata": {},
   "outputs": [],
   "source": [
    "fuzzymatch1 = pd.read_csv('match1.csv')"
   ]
  },
  {
   "cell_type": "code",
   "execution_count": 7,
   "id": "b4ba4cf9",
   "metadata": {},
   "outputs": [],
   "source": [
    "fuzzymatch2 = pd.read_csv('match2.csv')"
   ]
  },
  {
   "cell_type": "code",
   "execution_count": 8,
   "id": "11466725",
   "metadata": {},
   "outputs": [],
   "source": [
    "left_on = [\"Batch\",\"SCID\",\"REFERENCE CODE\",\"Names\"]\n",
    "\n",
    "right_on = [\"Batchno\",\"SC NO.\",\"REFCODE\",\"Fullname\"]"
   ]
  },
  {
   "cell_type": "code",
   "execution_count": 9,
   "id": "2a153fb4",
   "metadata": {},
   "outputs": [],
   "source": [
    "df = ('matched_results')"
   ]
  },
  {
   "cell_type": "code",
   "execution_count": 10,
   "id": "014eb1d4",
   "metadata": {},
   "outputs": [],
   "source": [
    "matched_results = fm.fuzzy_left_join(fuzzymatch1,\n",
    "                                            fuzzymatch2,\n",
    "                                            left_on,\n",
    "                                            right_on,\n",
    "                                            left_id_col='Names',\n",
    "                                            right_id_col='Fullname')"
   ]
  },
  {
   "cell_type": "code",
   "execution_count": 11,
   "id": "ef82a7b2",
   "metadata": {},
   "outputs": [
    {
     "data": {
      "text/html": [
       "<div>\n",
       "<style scoped>\n",
       "    .dataframe tbody tr th:only-of-type {\n",
       "        vertical-align: middle;\n",
       "    }\n",
       "\n",
       "    .dataframe tbody tr th {\n",
       "        vertical-align: top;\n",
       "    }\n",
       "\n",
       "    .dataframe thead th {\n",
       "        text-align: right;\n",
       "    }\n",
       "</style>\n",
       "<table border=\"1\" class=\"dataframe\">\n",
       "  <thead>\n",
       "    <tr style=\"text-align: right;\">\n",
       "      <th></th>\n",
       "      <th>best_match_score</th>\n",
       "      <th>Batch</th>\n",
       "      <th>Batchno</th>\n",
       "      <th>SCID</th>\n",
       "      <th>SC NO.</th>\n",
       "      <th>REFERENCE CODE</th>\n",
       "      <th>REFCODE</th>\n",
       "      <th>Names</th>\n",
       "      <th>Fullname</th>\n",
       "    </tr>\n",
       "  </thead>\n",
       "  <tbody>\n",
       "    <tr>\n",
       "      <th>85650</th>\n",
       "      <td>0.490033</td>\n",
       "      <td>1</td>\n",
       "      <td>NaN</td>\n",
       "      <td>2154</td>\n",
       "      <td>2154</td>\n",
       "      <td>VAL-0020236</td>\n",
       "      <td>NaN</td>\n",
       "      <td>CARABAT TARCILA ACOSTA 12/23/1949</td>\n",
       "      <td>CABABAT TARCILA ACOSTA 12/23/1949</td>\n",
       "    </tr>\n",
       "    <tr>\n",
       "      <th>1258916</th>\n",
       "      <td>0.378473</td>\n",
       "      <td>122</td>\n",
       "      <td>NaN</td>\n",
       "      <td>10262</td>\n",
       "      <td>10262</td>\n",
       "      <td>VAL-0295117</td>\n",
       "      <td>NaN</td>\n",
       "      <td>SAPIGAO ARSENIA EBENGEN 9/19/1942</td>\n",
       "      <td>SAPIGAO ARSENIA OBUNGEN 09/07/1942</td>\n",
       "    </tr>\n",
       "    <tr>\n",
       "      <th>858065</th>\n",
       "      <td>0.131287</td>\n",
       "      <td>67</td>\n",
       "      <td>NaN</td>\n",
       "      <td>15590</td>\n",
       "      <td>18-0980</td>\n",
       "      <td>VAL-0206135</td>\n",
       "      <td>NaN</td>\n",
       "      <td>LORENZO JOSE UBALDO 12/30/1958</td>\n",
       "      <td>UBALDO JOSE LORENZO 12/02/1948</td>\n",
       "    </tr>\n",
       "    <tr>\n",
       "      <th>1165784</th>\n",
       "      <td>0.076825</td>\n",
       "      <td>105</td>\n",
       "      <td>NaN</td>\n",
       "      <td>8323</td>\n",
       "      <td>10639</td>\n",
       "      <td>VAL-0275139</td>\n",
       "      <td>NaN</td>\n",
       "      <td>MAGNO MILAGROS VERGARA 01/01/1955</td>\n",
       "      <td>MAGNO MILAGROS VERGARA 11/16/1949</td>\n",
       "    </tr>\n",
       "    <tr>\n",
       "      <th>1018790</th>\n",
       "      <td>0.024979</td>\n",
       "      <td>95</td>\n",
       "      <td>NaN</td>\n",
       "      <td>NaN</td>\n",
       "      <td>18-0980</td>\n",
       "      <td>VAL-0242425</td>\n",
       "      <td>NaN</td>\n",
       "      <td>UBALDO JOSE EMPERADOR 12/23/1958</td>\n",
       "      <td>UBALDO JOSE LORENZO 12/02/1948</td>\n",
       "    </tr>\n",
       "  </tbody>\n",
       "</table>\n",
       "</div>"
      ],
      "text/plain": [
       "         best_match_score  Batch  Batchno   SCID   SC NO. REFERENCE CODE  \\\n",
       "85650            0.490033      1      NaN   2154     2154    VAL-0020236   \n",
       "1258916          0.378473    122      NaN  10262    10262    VAL-0295117   \n",
       "858065           0.131287     67      NaN  15590  18-0980    VAL-0206135   \n",
       "1165784          0.076825    105      NaN   8323    10639    VAL-0275139   \n",
       "1018790          0.024979     95      NaN    NaN  18-0980    VAL-0242425   \n",
       "\n",
       "         REFCODE                              Names  \\\n",
       "85650        NaN  CARABAT TARCILA ACOSTA 12/23/1949   \n",
       "1258916      NaN  SAPIGAO ARSENIA EBENGEN 9/19/1942   \n",
       "858065       NaN     LORENZO JOSE UBALDO 12/30/1958   \n",
       "1165784      NaN  MAGNO MILAGROS VERGARA 01/01/1955   \n",
       "1018790      NaN   UBALDO JOSE EMPERADOR 12/23/1958   \n",
       "\n",
       "                                   Fullname  \n",
       "85650     CABABAT TARCILA ACOSTA 12/23/1949  \n",
       "1258916  SAPIGAO ARSENIA OBUNGEN 09/07/1942  \n",
       "858065       UBALDO JOSE LORENZO 12/02/1948  \n",
       "1165784   MAGNO MILAGROS VERGARA 11/16/1949  \n",
       "1018790      UBALDO JOSE LORENZO 12/02/1948  "
      ]
     },
     "execution_count": 11,
     "metadata": {},
     "output_type": "execute_result"
    }
   ],
   "source": [
    "cols = [\n",
    "    \n",
    "    \"best_match_score\",\"Batch\",\"Batchno\",\"SCID\",\"SC NO.\",\"REFERENCE CODE\",\"REFCODE\",\n",
    "    \"Names\",\"Fullname\"\n",
    "]\n",
    "\n",
    "matched_results[cols].sort_values(by=['best_match_score'], ascending=False).head(5)"
   ]
  },
  {
   "cell_type": "code",
   "execution_count": 12,
   "id": "4a02e14c",
   "metadata": {},
   "outputs": [
    {
     "data": {
      "text/html": [
       "<div>\n",
       "<style scoped>\n",
       "    .dataframe tbody tr th:only-of-type {\n",
       "        vertical-align: middle;\n",
       "    }\n",
       "\n",
       "    .dataframe tbody tr th {\n",
       "        vertical-align: top;\n",
       "    }\n",
       "\n",
       "    .dataframe thead th {\n",
       "        text-align: right;\n",
       "    }\n",
       "</style>\n",
       "<table border=\"1\" class=\"dataframe\">\n",
       "  <thead>\n",
       "    <tr style=\"text-align: right;\">\n",
       "      <th></th>\n",
       "      <th>best_match_score</th>\n",
       "      <th>Batch</th>\n",
       "      <th>Batchno</th>\n",
       "      <th>SCID</th>\n",
       "      <th>SC NO.</th>\n",
       "      <th>REFERENCE CODE</th>\n",
       "      <th>REFCODE</th>\n",
       "      <th>Names</th>\n",
       "      <th>Fullname</th>\n",
       "    </tr>\n",
       "  </thead>\n",
       "  <tbody>\n",
       "    <tr>\n",
       "      <th>85650</th>\n",
       "      <td>0.490033</td>\n",
       "      <td>1</td>\n",
       "      <td>NaN</td>\n",
       "      <td>2154</td>\n",
       "      <td>2154</td>\n",
       "      <td>VAL-0020236</td>\n",
       "      <td>NaN</td>\n",
       "      <td>CARABAT TARCILA ACOSTA 12/23/1949</td>\n",
       "      <td>CABABAT TARCILA ACOSTA 12/23/1949</td>\n",
       "    </tr>\n",
       "    <tr>\n",
       "      <th>1258916</th>\n",
       "      <td>0.378473</td>\n",
       "      <td>122</td>\n",
       "      <td>NaN</td>\n",
       "      <td>10262</td>\n",
       "      <td>10262</td>\n",
       "      <td>VAL-0295117</td>\n",
       "      <td>NaN</td>\n",
       "      <td>SAPIGAO ARSENIA EBENGEN 9/19/1942</td>\n",
       "      <td>SAPIGAO ARSENIA OBUNGEN 09/07/1942</td>\n",
       "    </tr>\n",
       "    <tr>\n",
       "      <th>858065</th>\n",
       "      <td>0.131287</td>\n",
       "      <td>67</td>\n",
       "      <td>NaN</td>\n",
       "      <td>15590</td>\n",
       "      <td>18-0980</td>\n",
       "      <td>VAL-0206135</td>\n",
       "      <td>NaN</td>\n",
       "      <td>LORENZO JOSE UBALDO 12/30/1958</td>\n",
       "      <td>UBALDO JOSE LORENZO 12/02/1948</td>\n",
       "    </tr>\n",
       "    <tr>\n",
       "      <th>1165784</th>\n",
       "      <td>0.076825</td>\n",
       "      <td>105</td>\n",
       "      <td>NaN</td>\n",
       "      <td>8323</td>\n",
       "      <td>10639</td>\n",
       "      <td>VAL-0275139</td>\n",
       "      <td>NaN</td>\n",
       "      <td>MAGNO MILAGROS VERGARA 01/01/1955</td>\n",
       "      <td>MAGNO MILAGROS VERGARA 11/16/1949</td>\n",
       "    </tr>\n",
       "    <tr>\n",
       "      <th>1018790</th>\n",
       "      <td>0.024979</td>\n",
       "      <td>95</td>\n",
       "      <td>NaN</td>\n",
       "      <td>NaN</td>\n",
       "      <td>18-0980</td>\n",
       "      <td>VAL-0242425</td>\n",
       "      <td>NaN</td>\n",
       "      <td>UBALDO JOSE EMPERADOR 12/23/1958</td>\n",
       "      <td>UBALDO JOSE LORENZO 12/02/1948</td>\n",
       "    </tr>\n",
       "  </tbody>\n",
       "</table>\n",
       "</div>"
      ],
      "text/plain": [
       "         best_match_score  Batch  Batchno   SCID   SC NO. REFERENCE CODE  \\\n",
       "85650            0.490033      1      NaN   2154     2154    VAL-0020236   \n",
       "1258916          0.378473    122      NaN  10262    10262    VAL-0295117   \n",
       "858065           0.131287     67      NaN  15590  18-0980    VAL-0206135   \n",
       "1165784          0.076825    105      NaN   8323    10639    VAL-0275139   \n",
       "1018790          0.024979     95      NaN    NaN  18-0980    VAL-0242425   \n",
       "\n",
       "         REFCODE                              Names  \\\n",
       "85650        NaN  CARABAT TARCILA ACOSTA 12/23/1949   \n",
       "1258916      NaN  SAPIGAO ARSENIA EBENGEN 9/19/1942   \n",
       "858065       NaN     LORENZO JOSE UBALDO 12/30/1958   \n",
       "1165784      NaN  MAGNO MILAGROS VERGARA 01/01/1955   \n",
       "1018790      NaN   UBALDO JOSE EMPERADOR 12/23/1958   \n",
       "\n",
       "                                   Fullname  \n",
       "85650     CABABAT TARCILA ACOSTA 12/23/1949  \n",
       "1258916  SAPIGAO ARSENIA OBUNGEN 09/07/1942  \n",
       "858065       UBALDO JOSE LORENZO 12/02/1948  \n",
       "1165784   MAGNO MILAGROS VERGARA 11/16/1949  \n",
       "1018790      UBALDO JOSE LORENZO 12/02/1948  "
      ]
     },
     "execution_count": 12,
     "metadata": {},
     "output_type": "execute_result"
    }
   ],
   "source": [
    "matched_results[cols].query(\"best_match_score <= .80\").sort_values(\n",
    "    by=['best_match_score'], ascending=False).head(5)"
   ]
  },
  {
   "cell_type": "code",
   "execution_count": 13,
   "id": "f0ef2608",
   "metadata": {},
   "outputs": [],
   "source": [
    "df = pd.DataFrame(matched_results)"
   ]
  },
  {
   "cell_type": "code",
   "execution_count": 14,
   "id": "d2055555",
   "metadata": {},
   "outputs": [],
   "source": [
    "df.to_csv('result.csv')"
   ]
  },
  {
   "cell_type": "code",
   "execution_count": null,
   "id": "656bf2dd",
   "metadata": {},
   "outputs": [],
   "source": []
  },
  {
   "cell_type": "code",
   "execution_count": null,
   "id": "8f56beb0",
   "metadata": {},
   "outputs": [],
   "source": []
  }
 ],
 "metadata": {
  "kernelspec": {
   "display_name": "Python 3 (ipykernel)",
   "language": "python",
   "name": "python3"
  },
  "language_info": {
   "codemirror_mode": {
    "name": "ipython",
    "version": 3
   },
   "file_extension": ".py",
   "mimetype": "text/x-python",
   "name": "python",
   "nbconvert_exporter": "python",
   "pygments_lexer": "ipython3",
   "version": "3.11.4"
  }
 },
 "nbformat": 4,
 "nbformat_minor": 5
}
