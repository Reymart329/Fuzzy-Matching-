{
 "cells": [
  {
   "cell_type": "code",
   "execution_count": 1,
   "id": "3ffd7d01",
   "metadata": {},
   "outputs": [],
   "source": [
    "import pandas as pd"
   ]
  },
  {
   "cell_type": "code",
   "execution_count": 2,
   "id": "be7fbb3f",
   "metadata": {},
   "outputs": [],
   "source": [
    "from pathlib import Path"
   ]
  },
  {
   "cell_type": "code",
   "execution_count": 3,
   "id": "3615f70e",
   "metadata": {},
   "outputs": [],
   "source": [
    "import fuzzymatcher as fm"
   ]
  },
  {
   "cell_type": "code",
   "execution_count": 4,
   "id": "3d24914b",
   "metadata": {},
   "outputs": [],
   "source": [
    "import fuzzywuzzy as fw"
   ]
  },
  {
   "cell_type": "code",
   "execution_count": null,
   "id": "03cab874",
   "metadata": {},
   "outputs": [],
   "source": [
    "import recordlinkage as rl"
   ]
  },
  {
   "cell_type": "code",
   "execution_count": 5,
   "id": "9e39e68d",
   "metadata": {},
   "outputs": [],
   "source": [
    "fuzzymatch1 = pd.read_csv('match1.csv')"
   ]
  },
  {
   "cell_type": "code",
   "execution_count": 6,
   "id": "b4ba4cf9",
   "metadata": {},
   "outputs": [],
   "source": [
    "fuzzymatch2 = pd.read_csv('match2.csv')"
   ]
  },
  {
   "cell_type": "code",
   "execution_count": 7,
   "id": "11466725",
   "metadata": {},
   "outputs": [],
   "source": [
    "left_on = [\"Batch\",\"SCID\",\"REFERENCE CODE\",\"Names\"]\n",
    "\n",
    "right_on = [\"Batchno\",\"SC NO.\",\"REFCODE\",\"Fullname\"]"
   ]
  },
  {
   "cell_type": "code",
   "execution_count": 8,
   "id": "2a153fb4",
   "metadata": {},
   "outputs": [],
   "source": [
    "df = ('matched_results')"
   ]
  },
  {
   "cell_type": "code",
   "execution_count": 9,
   "id": "014eb1d4",
   "metadata": {},
   "outputs": [],
   "source": [
    "matched_results = fm.fuzzy_left_join(fuzzymatch1,\n",
    "                                            fuzzymatch2,\n",
    "                                            left_on,\n",
    "                                            right_on,\n",
    "                                            left_id_col='Names',\n",
    "                                            right_id_col='Fullname')"
   ]
  },
  {
   "cell_type": "code",
   "execution_count": 10,
   "id": "ef82a7b2",
   "metadata": {},
   "outputs": [
    {
     "data": {
      "text/html": [
       "<div>\n",
       "<style scoped>\n",
       "    .dataframe tbody tr th:only-of-type {\n",
       "        vertical-align: middle;\n",
       "    }\n",
       "\n",
       "    .dataframe tbody tr th {\n",
       "        vertical-align: top;\n",
       "    }\n",
       "\n",
       "    .dataframe thead th {\n",
       "        text-align: right;\n",
       "    }\n",
       "</style>\n",
       "<table border=\"1\" class=\"dataframe\">\n",
       "  <thead>\n",
       "    <tr style=\"text-align: right;\">\n",
       "      <th></th>\n",
       "      <th>best_match_score</th>\n",
       "      <th>Batch</th>\n",
       "      <th>Batchno</th>\n",
       "      <th>SCID</th>\n",
       "      <th>SC NO.</th>\n",
       "      <th>REFERENCE CODE</th>\n",
       "      <th>REFCODE</th>\n",
       "      <th>Names</th>\n",
       "      <th>Fullname</th>\n",
       "    </tr>\n",
       "  </thead>\n",
       "  <tbody>\n",
       "    <tr>\n",
       "      <th>101042</th>\n",
       "      <td>0.619780</td>\n",
       "      <td>1</td>\n",
       "      <td>NaN</td>\n",
       "      <td>6088</td>\n",
       "      <td>6088.0</td>\n",
       "      <td>VAL-0048627</td>\n",
       "      <td>NaN</td>\n",
       "      <td>SALVADO BRIGIDA TABUR 10/08/1953</td>\n",
       "      <td>SALVADO BRIGIDA TABUR 10/08/1953</td>\n",
       "    </tr>\n",
       "    <tr>\n",
       "      <th>85726</th>\n",
       "      <td>0.454588</td>\n",
       "      <td>1</td>\n",
       "      <td>NaN</td>\n",
       "      <td>6324</td>\n",
       "      <td>6324.0</td>\n",
       "      <td>VAL-0041156</td>\n",
       "      <td>NaN</td>\n",
       "      <td>TABNAGCURA MERLINDA LACTAM 5/29/1956</td>\n",
       "      <td>TABANGCURA MERLINDA LACTAM 05/29/1956</td>\n",
       "    </tr>\n",
       "    <tr>\n",
       "      <th>508242</th>\n",
       "      <td>-0.073307</td>\n",
       "      <td>94</td>\n",
       "      <td>NaN</td>\n",
       "      <td>9301</td>\n",
       "      <td>3049.0</td>\n",
       "      <td>VAL-0238099</td>\n",
       "      <td>NaN</td>\n",
       "      <td>PACULAN AGNES DELA CRUZ 04/04/1958</td>\n",
       "      <td>DELA CRUZ AGNES SILVINO 05/05/1959</td>\n",
       "    </tr>\n",
       "    <tr>\n",
       "      <th>527019</th>\n",
       "      <td>-0.118898</td>\n",
       "      <td>95</td>\n",
       "      <td>NaN</td>\n",
       "      <td>NaN</td>\n",
       "      <td>3049.0</td>\n",
       "      <td>VAL-0245354</td>\n",
       "      <td>NaN</td>\n",
       "      <td>ESTRADA DELIA DELA CRUZ 5/24/1953</td>\n",
       "      <td>DELA CRUZ AGNES SILVINO 05/05/1959</td>\n",
       "    </tr>\n",
       "    <tr>\n",
       "      <th>626227</th>\n",
       "      <td>-0.120439</td>\n",
       "      <td>108</td>\n",
       "      <td>NaN</td>\n",
       "      <td>267</td>\n",
       "      <td>3049.0</td>\n",
       "      <td>VAL-0282121</td>\n",
       "      <td>NaN</td>\n",
       "      <td>DELA CRUZ JOSEFINA ECHANES 5/24/1948</td>\n",
       "      <td>DELA CRUZ AGNES SILVINO 05/05/1959</td>\n",
       "    </tr>\n",
       "  </tbody>\n",
       "</table>\n",
       "</div>"
      ],
      "text/plain": [
       "        best_match_score  Batch  Batchno  SCID  SC NO. REFERENCE CODE  \\\n",
       "101042          0.619780      1      NaN  6088  6088.0    VAL-0048627   \n",
       "85726           0.454588      1      NaN  6324  6324.0    VAL-0041156   \n",
       "508242         -0.073307     94      NaN  9301  3049.0    VAL-0238099   \n",
       "527019         -0.118898     95      NaN   NaN  3049.0    VAL-0245354   \n",
       "626227         -0.120439    108      NaN   267  3049.0    VAL-0282121   \n",
       "\n",
       "        REFCODE                                 Names  \\\n",
       "101042      NaN      SALVADO BRIGIDA TABUR 10/08/1953   \n",
       "85726       NaN  TABNAGCURA MERLINDA LACTAM 5/29/1956   \n",
       "508242      NaN    PACULAN AGNES DELA CRUZ 04/04/1958   \n",
       "527019      NaN     ESTRADA DELIA DELA CRUZ 5/24/1953   \n",
       "626227      NaN  DELA CRUZ JOSEFINA ECHANES 5/24/1948   \n",
       "\n",
       "                                     Fullname  \n",
       "101042       SALVADO BRIGIDA TABUR 10/08/1953  \n",
       "85726   TABANGCURA MERLINDA LACTAM 05/29/1956  \n",
       "508242     DELA CRUZ AGNES SILVINO 05/05/1959  \n",
       "527019     DELA CRUZ AGNES SILVINO 05/05/1959  \n",
       "626227     DELA CRUZ AGNES SILVINO 05/05/1959  "
      ]
     },
     "execution_count": 10,
     "metadata": {},
     "output_type": "execute_result"
    }
   ],
   "source": [
    "cols = [\n",
    "    \n",
    "    \"best_match_score\",\"Batch\",\"Batchno\",\"SCID\",\"SC NO.\",\"REFERENCE CODE\",\"REFCODE\",\n",
    "    \"Names\",\"Fullname\"\n",
    "]\n",
    "\n",
    "matched_results[cols].sort_values(by=['best_match_score'], ascending=False).head(5)"
   ]
  },
  {
   "cell_type": "code",
   "execution_count": 11,
   "id": "4a02e14c",
   "metadata": {},
   "outputs": [
    {
     "data": {
      "text/html": [
       "<div>\n",
       "<style scoped>\n",
       "    .dataframe tbody tr th:only-of-type {\n",
       "        vertical-align: middle;\n",
       "    }\n",
       "\n",
       "    .dataframe tbody tr th {\n",
       "        vertical-align: top;\n",
       "    }\n",
       "\n",
       "    .dataframe thead th {\n",
       "        text-align: right;\n",
       "    }\n",
       "</style>\n",
       "<table border=\"1\" class=\"dataframe\">\n",
       "  <thead>\n",
       "    <tr style=\"text-align: right;\">\n",
       "      <th></th>\n",
       "      <th>best_match_score</th>\n",
       "      <th>Batch</th>\n",
       "      <th>Batchno</th>\n",
       "      <th>SCID</th>\n",
       "      <th>SC NO.</th>\n",
       "      <th>REFERENCE CODE</th>\n",
       "      <th>REFCODE</th>\n",
       "      <th>Names</th>\n",
       "      <th>Fullname</th>\n",
       "    </tr>\n",
       "  </thead>\n",
       "  <tbody>\n",
       "    <tr>\n",
       "      <th>101042</th>\n",
       "      <td>0.619780</td>\n",
       "      <td>1</td>\n",
       "      <td>NaN</td>\n",
       "      <td>6088</td>\n",
       "      <td>6088.0</td>\n",
       "      <td>VAL-0048627</td>\n",
       "      <td>NaN</td>\n",
       "      <td>SALVADO BRIGIDA TABUR 10/08/1953</td>\n",
       "      <td>SALVADO BRIGIDA TABUR 10/08/1953</td>\n",
       "    </tr>\n",
       "    <tr>\n",
       "      <th>85726</th>\n",
       "      <td>0.454588</td>\n",
       "      <td>1</td>\n",
       "      <td>NaN</td>\n",
       "      <td>6324</td>\n",
       "      <td>6324.0</td>\n",
       "      <td>VAL-0041156</td>\n",
       "      <td>NaN</td>\n",
       "      <td>TABNAGCURA MERLINDA LACTAM 5/29/1956</td>\n",
       "      <td>TABANGCURA MERLINDA LACTAM 05/29/1956</td>\n",
       "    </tr>\n",
       "    <tr>\n",
       "      <th>508242</th>\n",
       "      <td>-0.073307</td>\n",
       "      <td>94</td>\n",
       "      <td>NaN</td>\n",
       "      <td>9301</td>\n",
       "      <td>3049.0</td>\n",
       "      <td>VAL-0238099</td>\n",
       "      <td>NaN</td>\n",
       "      <td>PACULAN AGNES DELA CRUZ 04/04/1958</td>\n",
       "      <td>DELA CRUZ AGNES SILVINO 05/05/1959</td>\n",
       "    </tr>\n",
       "    <tr>\n",
       "      <th>527019</th>\n",
       "      <td>-0.118898</td>\n",
       "      <td>95</td>\n",
       "      <td>NaN</td>\n",
       "      <td>NaN</td>\n",
       "      <td>3049.0</td>\n",
       "      <td>VAL-0245354</td>\n",
       "      <td>NaN</td>\n",
       "      <td>ESTRADA DELIA DELA CRUZ 5/24/1953</td>\n",
       "      <td>DELA CRUZ AGNES SILVINO 05/05/1959</td>\n",
       "    </tr>\n",
       "    <tr>\n",
       "      <th>626227</th>\n",
       "      <td>-0.120439</td>\n",
       "      <td>108</td>\n",
       "      <td>NaN</td>\n",
       "      <td>267</td>\n",
       "      <td>3049.0</td>\n",
       "      <td>VAL-0282121</td>\n",
       "      <td>NaN</td>\n",
       "      <td>DELA CRUZ JOSEFINA ECHANES 5/24/1948</td>\n",
       "      <td>DELA CRUZ AGNES SILVINO 05/05/1959</td>\n",
       "    </tr>\n",
       "  </tbody>\n",
       "</table>\n",
       "</div>"
      ],
      "text/plain": [
       "        best_match_score  Batch  Batchno  SCID  SC NO. REFERENCE CODE  \\\n",
       "101042          0.619780      1      NaN  6088  6088.0    VAL-0048627   \n",
       "85726           0.454588      1      NaN  6324  6324.0    VAL-0041156   \n",
       "508242         -0.073307     94      NaN  9301  3049.0    VAL-0238099   \n",
       "527019         -0.118898     95      NaN   NaN  3049.0    VAL-0245354   \n",
       "626227         -0.120439    108      NaN   267  3049.0    VAL-0282121   \n",
       "\n",
       "        REFCODE                                 Names  \\\n",
       "101042      NaN      SALVADO BRIGIDA TABUR 10/08/1953   \n",
       "85726       NaN  TABNAGCURA MERLINDA LACTAM 5/29/1956   \n",
       "508242      NaN    PACULAN AGNES DELA CRUZ 04/04/1958   \n",
       "527019      NaN     ESTRADA DELIA DELA CRUZ 5/24/1953   \n",
       "626227      NaN  DELA CRUZ JOSEFINA ECHANES 5/24/1948   \n",
       "\n",
       "                                     Fullname  \n",
       "101042       SALVADO BRIGIDA TABUR 10/08/1953  \n",
       "85726   TABANGCURA MERLINDA LACTAM 05/29/1956  \n",
       "508242     DELA CRUZ AGNES SILVINO 05/05/1959  \n",
       "527019     DELA CRUZ AGNES SILVINO 05/05/1959  \n",
       "626227     DELA CRUZ AGNES SILVINO 05/05/1959  "
      ]
     },
     "execution_count": 11,
     "metadata": {},
     "output_type": "execute_result"
    }
   ],
   "source": [
    "matched_results[cols].query(\"best_match_score <= .80\").sort_values(\n",
    "    by=['best_match_score'], ascending=False).head(5)"
   ]
  },
  {
   "cell_type": "code",
   "execution_count": 12,
   "id": "f0ef2608",
   "metadata": {},
   "outputs": [],
   "source": [
    "df = pd.DataFrame(matched_results)"
   ]
  },
  {
   "cell_type": "code",
   "execution_count": 13,
   "id": "d2055555",
   "metadata": {},
   "outputs": [],
   "source": [
    "df.to_csv('result.csv')"
   ]
  },
  {
   "cell_type": "code",
   "execution_count": null,
   "id": "656bf2dd",
   "metadata": {},
   "outputs": [],
   "source": []
  },
  {
   "cell_type": "code",
   "execution_count": null,
   "id": "8f56beb0",
   "metadata": {},
   "outputs": [],
   "source": []
  }
 ],
 "metadata": {
  "kernelspec": {
   "display_name": "Python 3 (ipykernel)",
   "language": "python",
   "name": "python3"
  },
  "language_info": {
   "codemirror_mode": {
    "name": "ipython",
    "version": 3
   },
   "file_extension": ".py",
   "mimetype": "text/x-python",
   "name": "python",
   "nbconvert_exporter": "python",
   "pygments_lexer": "ipython3",
   "version": "3.11.4"
  }
 },
 "nbformat": 4,
 "nbformat_minor": 5
}
